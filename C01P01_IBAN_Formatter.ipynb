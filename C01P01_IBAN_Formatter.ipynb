{
 "cells": [
  {
   "cell_type": "code",
   "execution_count": 22,
   "metadata": {},
   "outputs": [
    {
     "name": "stdout",
     "output_type": "stream",
     "text": [
      "BG80BNBG96611020345678 - This is OLD string **Removes initially included spaces**\n",
      "BG80 BNBG 9661 1020 3456 78 - This is NEW string\n",
      "True\n",
      "BG80BNBG96611020345678 - This is OLD string **Removes initially included spaces**\n",
      "BG80 BNBG 9661 1020 3456 78 - This is NEW string\n",
      "True\n",
      "BG14TTBB94005362446381 - This is OLD string **Removes initially included spaces**\n",
      "BG14 TTBB 9400 5362 4463 81 - This is NEW string\n",
      "True\n",
      "BG91UNCR70001864961754 - This is OLD string **Removes initially included spaces**\n",
      "BG91 UNCR 7000 1864 9617 54 - This is NEW string\n",
      "True\n"
     ]
    }
   ],
   "source": [
    "''' \n",
    "                                                                         C01P01 - IBAN formatter\n",
    "\n",
    "\n",
    "\n",
    "\n",
    "\n",
    "\n",
    "\n",
    "Someone is emailing you an invoice. You grab the \"windows machine\" and open up the online banking.\n",
    "\n",
    "It's time to type the provided IBAN. And to be frank - IBANs are really hard to read.\n",
    "\n",
    "You get something like that:\n",
    "\n",
    "BG80BNBG96611020345678\n",
    "A bunch of numbers and letters that are hard to look at & type elsewhere.\n",
    "\n",
    "But if you somehow manage to get the IBAN to look like that:\n",
    "\n",
    "BG80 BNBG 9661 1020 3456 78\n",
    "It's quite easy to type that elsewhere, because everyting is split in groups of 4 numbers & there's nice whitespace.\n",
    "\n",
    "Your task is to implement the following Python function:\n",
    "\n",
    "def iban_formatter(iban):\n",
    "    pass\n",
    "The function takes a string (an IBAN) and returns the IBAN in the formatted way showed above.\n",
    "Keep in mind that the IBAN can be already formatted & the function should take care of that too.\n",
    "Examples:\n",
    "\n",
    "iban_formatter(\"BG80BNBG96611020345678\") == \"BG80 BNBG 9661 1020 3456 78\"\n",
    "iban_formatter(\"BG80 BNBG 9661 1020 3456 78\") == \"BG80 BNBG 9661 1020 3456 78\"\n",
    "iban_formatter(\"BG14TTBB94005362446381\") == \"BG14 TTBB 9400 5362 4463 81\"\n",
    "iban_formatter(\"BG91UNCR70001864961754\") == \"BG91 UNCR 7000 1864 9617 54\"\n",
    "\n",
    "'''\n",
    "\n",
    "\n",
    "def iban_formatter(iban):\n",
    "    iban = iban.replace(' ', '')\n",
    "    overall_index = 0\n",
    "    loop_index = 0\n",
    "    new_str = ''\n",
    "\n",
    "    for x in iban:\n",
    "        loop_index += 1\n",
    "        new_str += x\n",
    "\n",
    "        if loop_index == 4:\n",
    "\n",
    "            new_str += ' '\n",
    "            loop_index = 0\n",
    "\n",
    "        \n",
    "\n",
    "    print(iban + ' - This is OLD string **Removes initially included spaces**')\n",
    "    print(new_str + ' - This is NEW string')\n",
    "    return(new_str)\n",
    "    \n",
    "    \n",
    "    \n",
    " \n",
    "\n",
    "\n",
    "\n",
    "\n",
    "\n",
    "\n",
    "testing_output = [('BG80BNBG96611020345678','BG80 BNBG 9661 1020 3456 78'),\n",
    "        ('BG80 BNBG 9661 1020 3456 78','BG80 BNBG 9661 1020 3456 78'), \n",
    "        ('BG14TTBB94005362446381','BG14 TTBB 9400 5362 4463 81'),\n",
    "       ('BG91UNCR70001864961754', 'BG91 UNCR 7000 1864 9617 54')]\n",
    "\n",
    "for iban, expected in testing_output:\n",
    "    result = iban_formatter(iban)\n",
    "    # print(iban,result)\n",
    "    print(result == expected)"
   ]
  },
  {
   "cell_type": "code",
   "execution_count": 2,
   "metadata": {},
   "outputs": [
    {
     "data": {
      "text/plain": [
       "True"
      ]
     },
     "execution_count": 2,
     "metadata": {},
     "output_type": "execute_result"
    }
   ],
   "source": []
  },
  {
   "cell_type": "code",
   "execution_count": null,
   "metadata": {},
   "outputs": [],
   "source": []
  }
 ],
 "metadata": {
  "interpreter": {
   "hash": "72f905a1bbd07dc295e964c0246fea79da9263e854d6ece130d260b8e4a73f49"
  },
  "kernelspec": {
   "display_name": "Python 3.10.1 64-bit",
   "language": "python",
   "name": "python3"
  },
  "language_info": {
   "codemirror_mode": {
    "name": "ipython",
    "version": 3
   },
   "file_extension": ".py",
   "mimetype": "text/x-python",
   "name": "python",
   "nbconvert_exporter": "python",
   "pygments_lexer": "ipython3",
   "version": "3.10.1"
  },
  "orig_nbformat": 4
 },
 "nbformat": 4,
 "nbformat_minor": 2
}
