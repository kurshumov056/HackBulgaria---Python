{
 "cells": [
  {
   "cell_type": "code",
   "execution_count": 92,
   "metadata": {},
   "outputs": [
    {
     "name": "stdout",
     "output_type": "stream",
     "text": [
      "This is the result = 43     -     This is what was expected = 43\n",
      "True\n",
      "This is the result = 6     -     This is what was expected = 6\n",
      "True\n",
      "This is the result = 6     -     This is what was expected = 6\n",
      "True\n",
      "This is the result = 1     -     This is what was expected = 1\n",
      "True\n"
     ]
    }
   ],
   "source": [
    "''' \n",
    "\n",
    "                                                        ****C01P02 - Sum of digits****\n",
    "\n",
    "\n",
    "Given an integer, implement a function, called sum_of_digits(n) that calculates the sum of n's digits.\n",
    "\n",
    "If a negative number is given, our function should work as if it was positive.\n",
    "\n",
    "Here's the signature:\n",
    "\n",
    "def sum_of_digits(n):\n",
    "    pass\n",
    "    \n",
    "\n",
    "Examples:\n",
    "\n",
    "sum_of_digits(1325132435356) == 43\n",
    "sum_of_digits(123) == 6\n",
    "sum_of_digits(6) == 6\n",
    "sum_of_digits(-10) == 1\n",
    "\n",
    "'''\n",
    "\n",
    "\n",
    "def sum_of_digits(n):\n",
    "    \n",
    "    \n",
    "    if n < 0:\n",
    "        n = abs(n)\n",
    "    else:\n",
    "        pass \n",
    "    \n",
    "     \n",
    "    list = []\n",
    "    sum_digits = 0\n",
    "\n",
    "    for counter in range(len(str(n))):\n",
    "        digit = n % 10  # Extract the last digit of n\n",
    "        sum_digits += digit\n",
    "        \n",
    "        n //= 10  # Remove the last digit from n\n",
    "    return(sum_digits)\n",
    "\n",
    "\n",
    "\n",
    "test = [('1325132435356', '43'),\n",
    "        ('123', '6'), \n",
    "        ('6', '6'),\n",
    "        ('-10', '1')]\n",
    "\n",
    "for digits, expected in test:\n",
    "    result = sum_of_digits(int(digits))\n",
    "    # print(iban,result)\n",
    "    print('This is the result = ' + str(result) +'     -     '+ 'This is what was expected = '+  str(expected))\n",
    "    print(str(result) == str(expected))"
   ]
  },
  {
   "cell_type": "code",
   "execution_count": null,
   "metadata": {},
   "outputs": [],
   "source": []
  }
 ],
 "metadata": {
  "interpreter": {
   "hash": "72f905a1bbd07dc295e964c0246fea79da9263e854d6ece130d260b8e4a73f49"
  },
  "kernelspec": {
   "display_name": "Python 3.10.1 64-bit",
   "language": "python",
   "name": "python3"
  },
  "language_info": {
   "codemirror_mode": {
    "name": "ipython",
    "version": 3
   },
   "file_extension": ".py",
   "mimetype": "text/x-python",
   "name": "python",
   "nbconvert_exporter": "python",
   "pygments_lexer": "ipython3",
   "version": "3.10.1"
  },
  "orig_nbformat": 4
 },
 "nbformat": 4,
 "nbformat_minor": 2
}
