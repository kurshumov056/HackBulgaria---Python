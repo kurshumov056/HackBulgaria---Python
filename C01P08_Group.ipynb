{
 "cells": [
  {
   "cell_type": "code",
   "execution_count": null,
   "metadata": {},
   "outputs": [
    {
     "data": {
      "text/plain": [
       "\" \\n\\n                                                         **** C01P05 - Sum matrix ***\\n\\n\\n\\n\\n                                                         \\nYou are given a NxM matrix of integer numbers.\\n\\nImplement a function, called sum_matrix(m) that returns the sum of all numbers in the matrix.\\n\\nThe matrix will be represented as nested lists in Python.\\n\\nHere's the signature:\\n\\ndef sum_matrix(m):\\n    pass\\nExamples:\\n\\nm = [[1, 2, 3], [4, 5, 6], [7, 8, 9]]\\nsum_matrix(m) == 45\\n\\nm = [[0, 0, 0], [0, 0, 0], [0, 0, 0]]\\nsum_matrix(m) == 0\\n\\nm = [[1, 2], [3, 4], [5, 6], [7, 8], [9, 10]]\\nsum_matrix(m) == 55\\n\""
      ]
     },
     "execution_count": 1,
     "metadata": {},
     "output_type": "execute_result"
    }
   ],
   "source": [
    "''' \n",
    "\n",
    "                                                                ** C01P08 - Group **\n",
    "\n",
    "\n",
    "                                                                \n",
    "We are going to implement a very helpful function, called group.\n",
    "\n",
    "group takes a list of items and returns a list of groups, where each group is formed by all equal consecutive elements in the list.\n",
    "\n",
    "Signature\n",
    "\n",
    "def group(items):\n",
    "    pass\n",
    "Examples\n",
    "\n",
    "group([1, 1, 1, 2, 3, 1, 1]) == [[1, 1, 1], [2], [3], [1, 1]]\n",
    "group([1, 2, 1, 2, 3, 3]) == [[1], [2], [1], [2], [3, 3]]\n",
    "group([]) == []\n",
    "group([1]) == [[1]]\n",
    "group([1, 1, 1, 1]) == [[1, 1, 1, 1]]                                                                                    \n",
    "\n",
    "'''"
   ]
  },
  {
   "cell_type": "code",
   "execution_count": 111,
   "metadata": {},
   "outputs": [
    {
     "data": {
      "text/plain": [
       "[[1, 1, 2, 3, 1, 1]]"
      ]
     },
     "execution_count": 111,
     "metadata": {},
     "output_type": "execute_result"
    }
   ],
   "source": [
    "def group(items):\n",
    "    result = []\n",
    "    length = len(items)\n",
    "    index = 0\n",
    "\n",
    "    while index < length:\n",
    "        item = items[index]\n",
    "        current_group = [item]\n",
    "\n",
    "        lookup_index = index + 1\n",
    "\n",
    "        while lookup_index < length and items[lookup_index] == item:\n",
    "            current_group.append(items[lookup_index])\n",
    "            lookup_index += 1\n",
    "\n",
    "        result.append(current_group)\n",
    "        index = lookup_index\n",
    "\n",
    "    return result"
   ]
  },
  {
   "cell_type": "code",
   "execution_count": null,
   "metadata": {},
   "outputs": [],
   "source": []
  }
 ],
 "metadata": {
  "interpreter": {
   "hash": "72f905a1bbd07dc295e964c0246fea79da9263e854d6ece130d260b8e4a73f49"
  },
  "kernelspec": {
   "display_name": "Python 3.10.1 64-bit",
   "language": "python",
   "name": "python3"
  },
  "language_info": {
   "codemirror_mode": {
    "name": "ipython",
    "version": 3
   },
   "file_extension": ".py",
   "mimetype": "text/x-python",
   "name": "python",
   "nbconvert_exporter": "python",
   "pygments_lexer": "ipython3",
   "version": "3.10.1"
  },
  "orig_nbformat": 4
 },
 "nbformat": 4,
 "nbformat_minor": 2
}
