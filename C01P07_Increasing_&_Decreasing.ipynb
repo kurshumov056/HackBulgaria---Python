{
 "cells": [
  {
   "cell_type": "code",
   "execution_count": null,
   "metadata": {},
   "outputs": [
    {
     "data": {
      "text/plain": [
       "\" \\n\\n                                                         **** C01P05 - Sum matrix ***\\n\\n\\n\\n\\n                                                         \\nYou are given a NxM matrix of integer numbers.\\n\\nImplement a function, called sum_matrix(m) that returns the sum of all numbers in the matrix.\\n\\nThe matrix will be represented as nested lists in Python.\\n\\nHere's the signature:\\n\\ndef sum_matrix(m):\\n    pass\\nExamples:\\n\\nm = [[1, 2, 3], [4, 5, 6], [7, 8, 9]]\\nsum_matrix(m) == 45\\n\\nm = [[0, 0, 0], [0, 0, 0], [0, 0, 0]]\\nsum_matrix(m) == 0\\n\\nm = [[1, 2], [3, 4], [5, 6], [7, 8], [9, 10]]\\nsum_matrix(m) == 55\\n\""
      ]
     },
     "execution_count": 1,
     "metadata": {},
     "output_type": "execute_result"
    }
   ],
   "source": [
    "''' \n",
    "\n",
    "                                                                                    \n",
    "                                                                    ***C01P07 - Increasing and decreasing****\n",
    "\n",
    "                                                                    \n",
    "\n",
    "Implement a function, called increasing_or_decreasing(ns) where ns is a list of integers.\n",
    "\n",
    "The function should return a value from the following enum:\n",
    "\n",
    "from enum import Enum\n",
    "\n",
    "\n",
    "class Monotonicity(Enum):\n",
    "    INCREASING = 1\n",
    "    DECREASING = 2\n",
    "    NONE = 3\n",
    "It should return Monotonicity.INCREASING, if for every two elements, a and b, that are next to each other, we have a < b\n",
    "It should return Monotonicity.DECREASING, if for every two elements, a and b, that are next to each other, we have a > b\n",
    "It should return Monotonicity.NONE if it's neither increasing nor decrasing.\n",
    "Signature\n",
    "\n",
    "\n",
    "Examples\n",
    "\n",
    "increasing_or_decreasing([1, 2, 3, 4, 5]) == Monotonicity.INCREASING\n",
    "increasing_or_decreasing([5, 6, -10]) == Monotonicity.NONE\n",
    "increasing_or_decreasing([1, 1, 1, 1]) == Monotonicity.NONE\n",
    "increasing_or_decreasing([9, 8, 7, 6]) == Monotonicity.DECREASING\n",
    "increasing_or_decreasing([]) == Monotonicity.NONE\n",
    "increasing_or_decreasing([1]) == Monotonicity.NONE\n",
    "increasing_or_decreasing([1, 100]) == Monotonicity.INCREASING\n",
    "increasing_or_decreasing([1, 100, 100]) == Monotonicity.NONE\n",
    "increasing_or_decreasing([100, 1]) == Monotonicity.DECREASING\n",
    "increasing_or_decreasing([100, 1, 1]) == Monotonicity.NONE\n",
    "increasing_or_decreasing([100, 1, 2]) == Monotonicity.NONE\n",
    "'''"
   ]
  },
  {
   "cell_type": "code",
   "execution_count": 9,
   "metadata": {},
   "outputs": [
    {
     "data": {
      "text/plain": [
       "<Monotonicity.INCREASING: 1>"
      ]
     },
     "execution_count": 9,
     "metadata": {},
     "output_type": "execute_result"
    }
   ],
   "source": [
    "\n",
    " \n",
    "from enum import Enum\n",
    "\n",
    "class Monotonicity(Enum):\n",
    "    INCREASING = 1\n",
    "    DECREASING = 2\n",
    "    NONE = 3\n",
    "   \n",
    "# increasing = True and 1 < 2 and 2 < 3 and 4 < 5\n",
    "# decreasing = True and 1 > 2 and 2 > 3 and 3 > 4 and 4 > 5\n",
    "def increasing_or_decreasing(ns):\n",
    "    lenght = len(ns)\n",
    "    if lenght <= 1:\n",
    "        return Monotonicity.NONE\n",
    "\n",
    "    increasing = True\n",
    "    decreasing = True\n",
    "\n",
    "    for index in range(len(ns)-1):\n",
    "        x = ns[index]\n",
    "        y = ns[index + 1]\n",
    "        \n",
    "        increasing = increasing and x < y\n",
    "        decreasing = decreasing and x > y\n",
    "\n",
    "    if increasing:\n",
    "        return Monotonicity.INCREASING\n",
    "    elif decreasing:\n",
    "        return Monotonicity.DECREASING\n",
    "    else:\n",
    "        return Monotonicity.NONE\n",
    "\n",
    "lst = [1,2,3,4,5,6,7,8,9,10]\n",
    "lst_2 = []\n",
    "lst_3 = [5,4,3,2,1]\n",
    "lst_4 = [5,4,3,2,7,8]\n",
    "\n",
    "increasing_or_decreasing(lst)"
   ]
  },
  {
   "cell_type": "code",
   "execution_count": null,
   "metadata": {},
   "outputs": [],
   "source": []
  }
 ],
 "metadata": {
  "interpreter": {
   "hash": "72f905a1bbd07dc295e964c0246fea79da9263e854d6ece130d260b8e4a73f49"
  },
  "kernelspec": {
   "display_name": "Python 3.10.1 64-bit",
   "language": "python",
   "name": "python3"
  },
  "language_info": {
   "codemirror_mode": {
    "name": "ipython",
    "version": 3
   },
   "file_extension": ".py",
   "mimetype": "text/x-python",
   "name": "python",
   "nbconvert_exporter": "python",
   "pygments_lexer": "ipython3",
   "version": "3.10.1"
  },
  "orig_nbformat": 4
 },
 "nbformat": 4,
 "nbformat_minor": 2
}
