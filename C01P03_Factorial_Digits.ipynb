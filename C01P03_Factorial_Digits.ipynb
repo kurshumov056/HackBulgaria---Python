{
 "cells": [
  {
   "cell_type": "code",
   "execution_count": 1,
   "metadata": {},
   "outputs": [
    {
     "data": {
      "text/plain": [
       "\"  \\nC01P03 - Factorial digits\\nImplement a function fact_digits(n), that takes an integer and returns the sum of the factorials of each digit of n.\\n\\nFor example, if n = 145, we want 1! + 4! + 5!.\\n\\nHere's the signature:\\n\\ndef fact_digits(n):\\n    pass\\nExamples:\\n\\nfact_digits(101) == 3\\nfact_digits(111) == 3\\nfact_digits(145) == 145\\nfact_digits(999) == 1088640\\n\\n\""
      ]
     },
     "execution_count": 1,
     "metadata": {},
     "output_type": "execute_result"
    }
   ],
   "source": [
    "'''  \n",
    "                                                                ******* C01P03 - Factorial digits *******\n",
    "\n",
    "\n",
    "\n",
    "\n",
    "\n",
    "\n",
    "Implement a function fact_digits(n), that takes an integer and returns the sum of the factorials of each digit of n.\n",
    "\n",
    "For example, if n = 145, we want 1! + 4! + 5!.\n",
    "\n",
    "Here's the signature:\n",
    "\n",
    "def fact_digits(n):\n",
    "    pass\n",
    "Examples:\n",
    "\n",
    "fact_digits(101) == 3\n",
    "fact_digits(111) == 3\n",
    "fact_digits(145) == 145\n",
    "fact_digits(999) == 1088640\n",
    "\n",
    "\n",
    "\n",
    "'''"
   ]
  },
  {
   "cell_type": "code",
   "execution_count": 1,
   "metadata": {},
   "outputs": [
    {
     "name": "stdout",
     "output_type": "stream",
     "text": [
      "[9]\n",
      "[9, 9]\n",
      "[9, 9, 9]\n",
      "1088640\n"
     ]
    }
   ],
   "source": [
    "def fact_digits(n):\n",
    "\n",
    "     \n",
    "    digit = 0 \n",
    "    sum_digits = 0\n",
    "    list = []\n",
    "\n",
    "    \n",
    "    for counter in range(len(str(n))):\n",
    "        digit = n % 10  # Extract the last digit of n\n",
    "        list += [digit]\n",
    "        n = n // 10\n",
    "        \n",
    "\n",
    "        \n",
    "        print(list)\n",
    "\n",
    "    multiplier = 1\n",
    "    num = 1\n",
    "    sum = 1\n",
    "    total_sum = 0\n",
    "    for number in list:\n",
    "        \n",
    "        \n",
    "        while multiplier <= int(number):\n",
    "            \n",
    "            sum *=  multiplier  \n",
    "            \n",
    "            multiplier += 1\n",
    "            num += 1\n",
    "            \n",
    "        total_sum += sum\n",
    "        num = 0\n",
    "        multiplier = 1 \n",
    "        sum = 1\n",
    "\n",
    "    print(total_sum)\n",
    "fact_digits(999)"
   ]
  },
  {
   "cell_type": "code",
   "execution_count": null,
   "metadata": {},
   "outputs": [],
   "source": []
  }
 ],
 "metadata": {
  "interpreter": {
   "hash": "72f905a1bbd07dc295e964c0246fea79da9263e854d6ece130d260b8e4a73f49"
  },
  "kernelspec": {
   "display_name": "Python 3.10.1 64-bit",
   "language": "python",
   "name": "python3"
  },
  "language_info": {
   "codemirror_mode": {
    "name": "ipython",
    "version": 3
   },
   "file_extension": ".py",
   "mimetype": "text/x-python",
   "name": "python",
   "nbconvert_exporter": "python",
   "pygments_lexer": "ipython3",
   "version": "3.10.1"
  },
  "orig_nbformat": 4
 },
 "nbformat": 4,
 "nbformat_minor": 2
}
