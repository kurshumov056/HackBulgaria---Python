{
 "cells": [
  {
   "cell_type": "code",
   "execution_count": 1,
   "metadata": {},
   "outputs": [
    {
     "data": {
      "text/plain": [
       "\" \\n\\n                                                         **** C01P05 - Sum matrix ***\\n\\n\\n\\n\\n                                                         \\nYou are given a NxM matrix of integer numbers.\\n\\nImplement a function, called sum_matrix(m) that returns the sum of all numbers in the matrix.\\n\\nThe matrix will be represented as nested lists in Python.\\n\\nHere's the signature:\\n\\ndef sum_matrix(m):\\n    pass\\nExamples:\\n\\nm = [[1, 2, 3], [4, 5, 6], [7, 8, 9]]\\nsum_matrix(m) == 45\\n\\nm = [[0, 0, 0], [0, 0, 0], [0, 0, 0]]\\nsum_matrix(m) == 0\\n\\nm = [[1, 2], [3, 4], [5, 6], [7, 8], [9, 10]]\\nsum_matrix(m) == 55\\n\""
      ]
     },
     "execution_count": 1,
     "metadata": {},
     "output_type": "execute_result"
    }
   ],
   "source": [
    "''' \n",
    "\n",
    "                                                         **** C01P05 - Sum matrix ***\n",
    "\n",
    "\n",
    "\n",
    "\n",
    "                                                         \n",
    "You are given a NxM matrix of integer numbers.\n",
    "\n",
    "Implement a function, called sum_matrix(m) that returns the sum of all numbers in the matrix.\n",
    "\n",
    "The matrix will be represented as nested lists in Python.\n",
    "\n",
    "Here's the signature:\n",
    "\n",
    "def sum_matrix(m):\n",
    "    pass\n",
    "Examples:\n",
    "\n",
    "m = [[1, 2, 3], [4, 5, 6], [7, 8, 9]]\n",
    "sum_matrix(m) == 45\n",
    "\n",
    "m = [[0, 0, 0], [0, 0, 0], [0, 0, 0]]\n",
    "sum_matrix(m) == 0\n",
    "\n",
    "m = [[1, 2], [3, 4], [5, 6], [7, 8], [9, 10]]\n",
    "sum_matrix(m) == 55\n",
    "'''"
   ]
  },
  {
   "cell_type": "code",
   "execution_count": 9,
   "metadata": {},
   "outputs": [
    {
     "data": {
      "text/plain": [
       "55"
      ]
     },
     "execution_count": 9,
     "metadata": {},
     "output_type": "execute_result"
    }
   ],
   "source": [
    "a = [[1, 2, 3], [4, 5, 6], [7, 8, 9]]\n",
    "b = [[0, 0, 0], [0, 0, 0], [0, 0, 0]]\n",
    "c = [[1, 2], [3, 4], [5, 6], [7, 8], [9, 10]]\n",
    "\n",
    "def sum_matrix(matrix):\n",
    "    sum = 0\n",
    "    for x in matrix:\n",
    "        for y in x:\n",
    "            sum += y\n",
    "    return sum\n",
    "\n",
    "\n",
    "sum_matrix(c)"
   ]
  },
  {
   "cell_type": "code",
   "execution_count": null,
   "metadata": {},
   "outputs": [],
   "source": []
  }
 ],
 "metadata": {
  "interpreter": {
   "hash": "72f905a1bbd07dc295e964c0246fea79da9263e854d6ece130d260b8e4a73f49"
  },
  "kernelspec": {
   "display_name": "Python 3.10.1 64-bit",
   "language": "python",
   "name": "python3"
  },
  "language_info": {
   "codemirror_mode": {
    "name": "ipython",
    "version": 3
   },
   "file_extension": ".py",
   "mimetype": "text/x-python",
   "name": "python",
   "nbconvert_exporter": "python",
   "pygments_lexer": "ipython3",
   "version": "3.10.1"
  },
  "orig_nbformat": 4
 },
 "nbformat": 4,
 "nbformat_minor": 2
}
