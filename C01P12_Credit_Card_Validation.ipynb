{
 "cells": [
  {
   "cell_type": "code",
   "execution_count": 1,
   "metadata": {},
   "outputs": [
    {
     "data": {
      "text/plain": [
       "\" \\n\\n                                                            ******** C01P10 - Palindromes count ************\\n\\n\\n\\n\\n\\n\\n\\n                                                            \\nImplement a function called palindromes_count, which:\\n\\nTakes a number n.\\nReturns the number of integer palindromes between [10, n].\\nIt's important to note that: 10 <= n <= 99999.\\nAn integer palindrome is a number x, that written in reverse, remains the same.\\n\\nFor example, 11 is a palindrome, but 10 is not.\\n\\nSignature\\n\\ndef palindromes_count(n):\\n    pass\\nExamples\\n\\npalindromes_count(10) == 0\\npalindromes_count(20) == 1  # only 11\\npalindromes_count(101) == 10  # 11, 22, 33, 44, 55, 66, 77, 88, 99, 101\\npalindromes_count(92009) == 1009\\npalindromes_count(99999) == 1089                                                                           \\n\\n\""
      ]
     },
     "execution_count": 1,
     "metadata": {},
     "output_type": "execute_result"
    }
   ],
   "source": [
    "''' \n",
    "\n",
    "                                                                C01P12 - Credit card validation\n",
    "\n",
    "\n",
    "\n",
    "\n",
    "Implement a function, called is_credit_card_valid(number), which returns True or False based on the following algorithm:\n",
    "\n",
    "Starting from the right, double every second digit.\n",
    "If after doubling the digit becomes >= 10, calculate the sum of the digits of the new number & use that. For example, if we have 9 and doubling it gets us 18, the final result is going to be 1 + 8 = 9\n",
    "After the transformation, we find the sum of all digits in the transformed number.\n",
    "The number is valid, if the sum is divisible by 10.\n",
    "This is also known as the Luhn algorithm.\n",
    "\n",
    "For example: 79927398713 is valid, bacause:\n",
    "\n",
    "After doubling, we get the following number:\n",
    "                7 +\n",
    "sum_digits(9 * 2) +\n",
    "                9 +\n",
    "sum_digits(2 * 2) +\n",
    "                7 +\n",
    "sum_digits(3 * 2) +\n",
    "                9 +\n",
    "sum_digits(8 * 2) +\n",
    "                7 +\n",
    "sum_digits(1 * 2) +\n",
    "                3\n",
    "And calculating the sum of the digits of the transformed number, we get 70 => the card number is valid.\n",
    "Signature\n",
    "\n",
    "\n",
    "Examples\n",
    "\n",
    "is_credit_card_valid(79927398713) is True\n",
    "is_credit_card_valid(79927398715) is False\n",
    "is_credit_card_valid(4417123456789113) is True\n",
    "In case you need more cards, you can check out Stripe testing cards                                                                  \n",
    "\n",
    "'''"
   ]
  },
  {
   "cell_type": "code",
   "execution_count": 1,
   "metadata": {},
   "outputs": [
    {
     "name": "stdout",
     "output_type": "stream",
     "text": [
      "True\n",
      "True\n",
      "True\n",
      "True\n",
      "True\n",
      "True\n",
      "True\n",
      "True\n",
      "True\n",
      "True\n",
      "True\n",
      "True\n",
      "True\n"
     ]
    }
   ],
   "source": [
    "# Video - https://youtu.be/p9A5ySU8nWU\n",
    "\n",
    "def to_digits(number):\n",
    "    digits = []\n",
    "\n",
    "    for x in str(number):\n",
    "        digits.append(int(x))\n",
    "\n",
    "    return digits\n",
    "\n",
    "\n",
    "# 79927398713\n",
    "# 7 + 9 + 9 + 4 + 7 + 6 + 9 + 7 + 7 + 2 + 3\n",
    "def is_credit_card_valid(number):\n",
    "    result = []\n",
    "\n",
    "    digits = to_digits(number)\n",
    "    digits_count = len(digits)\n",
    "\n",
    "    double = False\n",
    "\n",
    "    for index in range(digits_count - 1, -1, -1):\n",
    "        multiplier = 1\n",
    "\n",
    "        if double:\n",
    "            multiplier = 2\n",
    "\n",
    "        transformed = sum(to_digits(digits[index] * multiplier))\n",
    "\n",
    "        result.append(transformed)\n",
    "\n",
    "        double = not double\n",
    "\n",
    "    return sum(result) % 10 == 0\n",
    "\n",
    "\n",
    "tests = [\n",
    "    (79927398713, True),\n",
    "    (4417123456789113, True),\n",
    "    (4242424242424242, True),\n",
    "    (79927398715, False),\n",
    "    (79927398710, False),\n",
    "    (79927398711, False),\n",
    "    (79927398712, False),\n",
    "    (79927398714, False),\n",
    "    (79927398715, False),\n",
    "    (79927398716, False),\n",
    "    (79927398717, False),\n",
    "    (79927398718, False),\n",
    "    (79927398719, False)\n",
    "]\n",
    "\n",
    "\n",
    "for number, expected in tests:\n",
    "    result = is_credit_card_valid(number)\n",
    "\n",
    "    print(result == expected)"
   ]
  },
  {
   "cell_type": "code",
   "execution_count": null,
   "metadata": {},
   "outputs": [],
   "source": []
  }
 ],
 "metadata": {
  "interpreter": {
   "hash": "72f905a1bbd07dc295e964c0246fea79da9263e854d6ece130d260b8e4a73f49"
  },
  "kernelspec": {
   "display_name": "Python 3.10.1 64-bit",
   "language": "python",
   "name": "python3"
  },
  "language_info": {
   "codemirror_mode": {
    "name": "ipython",
    "version": 3
   },
   "file_extension": ".py",
   "mimetype": "text/x-python",
   "name": "python",
   "nbconvert_exporter": "python",
   "pygments_lexer": "ipython3",
   "version": "3.10.1"
  },
  "orig_nbformat": 4
 },
 "nbformat": 4,
 "nbformat_minor": 2
}
