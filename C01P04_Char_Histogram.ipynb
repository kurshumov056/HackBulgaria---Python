{
 "cells": [
  {
   "cell_type": "code",
   "execution_count": 20,
   "metadata": {},
   "outputs": [
    {
     "data": {
      "text/plain": [
       "'  \\n                                                                    ***** C01P04 - Char histotgram ******\\n\\n                                                                    \\nImplement a funcion, called char_histogram(string), which takes a string and returns a dictionary, where each key is a character from string and its value is the number of occurrences of that char in the string.\\n\\nHere\\'s the signature:\\n\\ndef char_histogram(string):\\n    pass\\nExamples:\\n\\nchar_histogram(\"\") == {}\\nchar_histogram(\"    \") = {\\' \\': 4}\\nchar_histogram(\"Python!\") == {\\'P\\': 1, \\'y\\': 1, \\'t\\': 1, \\'h\\': 1, \\'o\\': 1, \\'n\\': 1, \\'!\\': 1}\\nchar_histogram(\"AAAAaaa!!!\") == {\\'A\\': 4, \\'a\\': 3, \\'!\\': 3}\\n\\n'"
      ]
     },
     "execution_count": 20,
     "metadata": {},
     "output_type": "execute_result"
    }
   ],
   "source": [
    "'''  \n",
    "                                                                    ***** C01P04 - Char histotgram ******\n",
    "\n",
    "                                                                    \n",
    "Implement a funcion, called char_histogram(string), which takes a string and returns a dictionary, where each key is a character from string and its value is the number of occurrences of that char in the string.\n",
    "\n",
    "Here's the signature:\n",
    "\n",
    "def char_histogram(string):\n",
    "    pass\n",
    "Examples:\n",
    "\n",
    "char_histogram(\"\") == {}\n",
    "char_histogram(\"    \") = {' ': 4}\n",
    "char_histogram(\"Python!\") == {'P': 1, 'y': 1, 't': 1, 'h': 1, 'o': 1, 'n': 1, '!': 1}\n",
    "char_histogram(\"AAAAaaa!!!\") == {'A': 4, 'a': 3, '!': 3}\n",
    "\n",
    "'''"
   ]
  },
  {
   "cell_type": "code",
   "execution_count": 23,
   "metadata": {},
   "outputs": [
    {
     "data": {
      "text/plain": [
       "{'P': 3, 'y': 1, 't': 1, 'h': 1, 'o': 1, 'n': 1, '!': 7}"
      ]
     },
     "execution_count": 23,
     "metadata": {},
     "output_type": "execute_result"
    }
   ],
   "source": [
    "def char_histogram(string):\n",
    "\n",
    "    dct = {}\n",
    "    counter = 0\n",
    "\n",
    "    for x in string:\n",
    "        if x in dct:\n",
    "            dct[x] += 1\n",
    "        else:\n",
    "            dct[x] = 1\n",
    "\n",
    "    return(dct)\n",
    "\n",
    "\n",
    "abc = 'PPPython!!!!!!!'\n",
    "\n",
    "char_histogram(abc)"
   ]
  },
  {
   "cell_type": "code",
   "execution_count": null,
   "metadata": {},
   "outputs": [],
   "source": []
  }
 ],
 "metadata": {
  "interpreter": {
   "hash": "72f905a1bbd07dc295e964c0246fea79da9263e854d6ece130d260b8e4a73f49"
  },
  "kernelspec": {
   "display_name": "Python 3.10.1 64-bit",
   "language": "python",
   "name": "python3"
  },
  "language_info": {
   "codemirror_mode": {
    "name": "ipython",
    "version": 3
   },
   "file_extension": ".py",
   "mimetype": "text/x-python",
   "name": "python",
   "nbconvert_exporter": "python",
   "pygments_lexer": "ipython3",
   "version": "3.10.1"
  },
  "orig_nbformat": 4
 },
 "nbformat": 4,
 "nbformat_minor": 2
}
