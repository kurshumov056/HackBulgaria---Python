{
 "cells": [
  {
   "cell_type": "code",
   "execution_count": null,
   "metadata": {},
   "outputs": [
    {
     "data": {
      "text/plain": [
       "\" \\n\\n                                                         **** C01P05 - Sum matrix ***\\n\\n\\n\\n\\n                                                         \\nYou are given a NxM matrix of integer numbers.\\n\\nImplement a function, called sum_matrix(m) that returns the sum of all numbers in the matrix.\\n\\nThe matrix will be represented as nested lists in Python.\\n\\nHere's the signature:\\n\\ndef sum_matrix(m):\\n    pass\\nExamples:\\n\\nm = [[1, 2, 3], [4, 5, 6], [7, 8, 9]]\\nsum_matrix(m) == 45\\n\\nm = [[0, 0, 0], [0, 0, 0], [0, 0, 0]]\\nsum_matrix(m) == 0\\n\\nm = [[1, 2], [3, 4], [5, 6], [7, 8], [9, 10]]\\nsum_matrix(m) == 55\\n\""
      ]
     },
     "execution_count": 1,
     "metadata": {},
     "output_type": "execute_result"
    }
   ],
   "source": [
    "''' \n",
    "\n",
    "                                                                                    \n",
    "                                                                    *** C01P06 - NaN expand****\n",
    "\n",
    "\n",
    "                                                                    \n",
    "In most programming languages, NaN stands for Not a Number.\n",
    "\n",
    "If we take a look at the following JavaScript code:\n",
    "\n",
    "typeof NaN === 'number'; // true\n",
    "We will see that in JavaScript, NaN stands for Not a NaN, which is recursive by nature.\n",
    "\n",
    "Implement a Python function, called nan_expand(times), which returns the expansion of NaN (In JavaScript terms) that many times.\n",
    "\n",
    "Here's the signature:\n",
    "\n",
    "def nan_expand(times):\n",
    "    pass\n",
    "Examples:\n",
    "\n",
    "If we expand NaN once (times=1), we will have \"Not a NaN\"\n",
    "If we expand NaN twice (times=2), we will have \"Not a Not a NaN\"\n",
    "If times=3, we have \"Not a Not a Not a NaN\"\n",
    "And so on ...\n",
    "nan_expand(0) == \"\"\n",
    "nan_expand(1) == \"Not a NaN\"\n",
    "nan_expand(2) == \"Not a Not a NaN\"\n",
    "nan_expand(3) == \"Not a Not a Not a NaN\"\n",
    "'''"
   ]
  },
  {
   "cell_type": "code",
   "execution_count": 5,
   "metadata": {},
   "outputs": [
    {
     "name": "stdout",
     "output_type": "stream",
     "text": [
      "Not a Not a Not a  Nan\n"
     ]
    }
   ],
   "source": [
    "def nan_expand(times):\n",
    "    times = int(times)\n",
    "    str = 'Not a '\n",
    "    expression = (times * str)\n",
    "\n",
    "    print('{} Nan'.format(expression))\n",
    "\n",
    "\n",
    "nan_expand(3)"
   ]
  },
  {
   "cell_type": "code",
   "execution_count": null,
   "metadata": {},
   "outputs": [],
   "source": []
  }
 ],
 "metadata": {
  "interpreter": {
   "hash": "72f905a1bbd07dc295e964c0246fea79da9263e854d6ece130d260b8e4a73f49"
  },
  "kernelspec": {
   "display_name": "Python 3.10.1 64-bit",
   "language": "python",
   "name": "python3"
  },
  "language_info": {
   "codemirror_mode": {
    "name": "ipython",
    "version": 3
   },
   "file_extension": ".py",
   "mimetype": "text/x-python",
   "name": "python",
   "nbconvert_exporter": "python",
   "pygments_lexer": "ipython3",
   "version": "3.10.1"
  },
  "orig_nbformat": 4
 },
 "nbformat": 4,
 "nbformat_minor": 2
}
