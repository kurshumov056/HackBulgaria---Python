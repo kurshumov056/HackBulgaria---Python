{
 "cells": [
  {
   "cell_type": "code",
   "execution_count": 1,
   "metadata": {},
   "outputs": [
    {
     "data": {
      "text/plain": [
       "\" \\n\\n                                                            ******** C01P10 - Palindromes count ************\\n\\n\\n\\n\\n\\n\\n\\n                                                            \\nImplement a function called palindromes_count, which:\\n\\nTakes a number n.\\nReturns the number of integer palindromes between [10, n].\\nIt's important to note that: 10 <= n <= 99999.\\nAn integer palindrome is a number x, that written in reverse, remains the same.\\n\\nFor example, 11 is a palindrome, but 10 is not.\\n\\nSignature\\n\\ndef palindromes_count(n):\\n    pass\\nExamples\\n\\npalindromes_count(10) == 0\\npalindromes_count(20) == 1  # only 11\\npalindromes_count(101) == 10  # 11, 22, 33, 44, 55, 66, 77, 88, 99, 101\\npalindromes_count(92009) == 1009\\npalindromes_count(99999) == 1089                                                                           \\n\\n\""
      ]
     },
     "execution_count": 1,
     "metadata": {},
     "output_type": "execute_result"
    }
   ],
   "source": [
    "''' \n",
    "\n",
    "                                                            ******** C01P11 - Anagrams ************\n",
    "\n",
    "                                                         \n",
    " \n",
    "According to Wikipedia, we have the following definition of an anagram:\n",
    "\n",
    "An anagram is a word or phrase formed by rearranging the letters of a different word or phrase, typically using all the original letters exactly once.\n",
    "\n",
    "For example, listen and silent are anagrams.\n",
    "\n",
    "Implement a function called anagrams, that takes word1, word2 and returns True, if those words are anagrams and False otherwise.\n",
    "\n",
    "We should take the following into consideration:\n",
    "\n",
    "Casing does not matter, meaning LISTEN and silent are anagrams.\n",
    "Whitespace does not matter, meaning New York Times and monkeys writting are anagrams.\n",
    "Signature\n",
    "\n",
    "def anagrams(word1, word2):\n",
    "    pass                                                                         \n",
    "\n",
    "'''"
   ]
  },
  {
   "cell_type": "code",
   "execution_count": 75,
   "metadata": {},
   "outputs": [
    {
     "name": "stdout",
     "output_type": "stream",
     "text": [
      "True\n",
      "True\n",
      "True\n",
      "False\n",
      "True\n",
      "True\n",
      "True\n",
      "True\n"
     ]
    }
   ],
   "source": [
    "def anagrams(word_1, word_2):\n",
    "\n",
    "    chars_1 = {}\n",
    "    chars_2 = {}\n",
    "\n",
    "    for letter in word_1.lower().replace(\" \",\"\"):\n",
    "        if letter in chars_1:\n",
    "            chars_1[letter] += 1\n",
    "\n",
    "        else:\n",
    "            chars_1[letter]= 1\n",
    "   \n",
    "\n",
    "\n",
    "    for letter in word_2.lower().replace(\" \",\"\"):\n",
    "        if letter in chars_2:\n",
    "            chars_2[letter] += 1\n",
    "\n",
    "        else:\n",
    "            chars_2[letter]= 1\n",
    "    \n",
    "\n",
    "    match_count = 0\n",
    "    word_1_len = len(str(word_1.lower().replace(\" \",\"\")))\n",
    "    word_2_len = len(str(word_2.lower().replace(\" \",\"\")))\n",
    "\n",
    "\n",
    "    if word_1_len == word_2_len:\n",
    "\n",
    "        result = True\n",
    "        matching_char_count =0\n",
    "\n",
    "        for x,y in chars_1.items():\n",
    "            for a,b in chars_2.items():\n",
    "\n",
    "                if x == a and y == b:\n",
    "                    \n",
    "                    matching_char_count += 1\n",
    "      \n",
    "\n",
    "        word_1_deduped = ''.join(set(str(word_1.lower().replace(\" \", \"\"))))\n",
    "       \n",
    "\n",
    "        if matching_char_count == len(str(word_1_deduped)):\n",
    "\n",
    "            result = True\n",
    "            return result\n",
    "        else:\n",
    "            result = False\n",
    "            return result \n",
    "\n",
    " \n",
    "\n",
    "tests = [\n",
    "    ((\"silent\", \"listen\"), True),\n",
    "    ((\"SILENT\", \"listen\"), True),\n",
    "    ((\"silent\", \"LISTEN\"), True),\n",
    "    ((\"python\", \"ruby\"), False),\n",
    "    ((\"a gentleman\", \"elegant man\"), True),\n",
    "    ((\"eleven plus two\", \"twelve plus one\"), True),\n",
    "    ((\"William Shakespeare\", \"I am a weakish speller\"), True),\n",
    "    ((\"\", \"\"), True)\n",
    "]\n",
    "\n",
    "\n",
    "\n",
    "for args, expected in tests:\n",
    "    result = anagrams(*args)\n",
    "\n",
    "    print(result == expected)\n",
    " \n",
    "\n",
    "\n",
    " \n"
   ]
  },
  {
   "cell_type": "code",
   "execution_count": null,
   "metadata": {},
   "outputs": [],
   "source": []
  }
 ],
 "metadata": {
  "interpreter": {
   "hash": "72f905a1bbd07dc295e964c0246fea79da9263e854d6ece130d260b8e4a73f49"
  },
  "kernelspec": {
   "display_name": "Python 3.10.1 64-bit",
   "language": "python",
   "name": "python3"
  },
  "language_info": {
   "codemirror_mode": {
    "name": "ipython",
    "version": 3
   },
   "file_extension": ".py",
   "mimetype": "text/x-python",
   "name": "python",
   "nbconvert_exporter": "python",
   "pygments_lexer": "ipython3",
   "version": "3.10.1"
  },
  "orig_nbformat": 4
 },
 "nbformat": 4,
 "nbformat_minor": 2
}
