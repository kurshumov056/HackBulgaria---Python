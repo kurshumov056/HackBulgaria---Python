{
 "cells": [
  {
   "cell_type": "code",
   "execution_count": null,
   "metadata": {},
   "outputs": [
    {
     "data": {
      "text/plain": [
       "\" \\n\\n                                                         **** C01P05 - Sum matrix ***\\n\\n\\n\\n\\n                                                         \\nYou are given a NxM matrix of integer numbers.\\n\\nImplement a function, called sum_matrix(m) that returns the sum of all numbers in the matrix.\\n\\nThe matrix will be represented as nested lists in Python.\\n\\nHere's the signature:\\n\\ndef sum_matrix(m):\\n    pass\\nExamples:\\n\\nm = [[1, 2, 3], [4, 5, 6], [7, 8, 9]]\\nsum_matrix(m) == 45\\n\\nm = [[0, 0, 0], [0, 0, 0], [0, 0, 0]]\\nsum_matrix(m) == 0\\n\\nm = [[1, 2], [3, 4], [5, 6], [7, 8], [9, 10]]\\nsum_matrix(m) == 55\\n\""
      ]
     },
     "execution_count": 1,
     "metadata": {},
     "output_type": "execute_result"
    }
   ],
   "source": [
    "''' \n",
    "\n",
    "                                                        **** C01P09 - Balanced numbers *****\n",
    "\n",
    "                                                        \n",
    "A number is called balanced, if we take the middle of it and the sums of the left and right parts are equal.\n",
    "\n",
    "For example, the number 1238033 is balanced, because it's left part is 123 and right part is 033.\n",
    "\n",
    "We have: 1 + 2 + 3 = 0 + 3 + 3 = 6\n",
    "\n",
    "Note: A number with only one digit is always balanced!\n",
    "\n",
    "Signature\n",
    "\n",
    "def is_number_balanced(number):\n",
    "    pass\n",
    "Examples\n",
    "\n",
    "is_number_balanced(9) is True\n",
    "is_number_balanced(4518) is True\n",
    "is_number_balanced(28471) is False\n",
    "is_number_balanced(1238033) is True                                                                                   \n",
    "\n",
    "'''"
   ]
  },
  {
   "cell_type": "code",
   "execution_count": 33,
   "metadata": {},
   "outputs": [
    {
     "name": "stdout",
     "output_type": "stream",
     "text": [
      "Left Sum is 3\n",
      "Right sum is 7\n"
     ]
    }
   ],
   "source": [
    "def balanced(number):\n",
    "\n",
    "    iter = 0\n",
    "    mid_count = int(len(str(number))) / 2\n",
    "    left_sum = 0\n",
    "    right_sum = 0\n",
    "    lenght = int(len(str(number)))\n",
    "\n",
    "    if len(str(number)) % 2 == 0: \n",
    "        for x in str(number):\n",
    "             if iter < mid_count:\n",
    "                left_sum += int(x)\n",
    "                iter += 1 \n",
    "        print('Left Sum is {}'.format(left_sum))\n",
    "                \n",
    "        split_range = str(number)[iter:lenght]\n",
    "\n",
    "        for y in split_range:\n",
    "            right_sum += int(y)\n",
    "\n",
    "        print('Right sum is {}'.format(right_sum))\n",
    "    \n",
    "    else:\n",
    "        mid_count += 1\n",
    "\n",
    "        for x in str(number):\n",
    "            if iter < mid_count:\n",
    "                left_sum += int()\n",
    "\n",
    "            \n",
    "\n",
    "            \n",
    "\n",
    "\n",
    "\n",
    "aa = 1234\n",
    "\n",
    "balanced(aa)\n",
    "    \n",
    "\n",
    "\n",
    "  "
   ]
  },
  {
   "cell_type": "code",
   "execution_count": 56,
   "metadata": {},
   "outputs": [
    {
     "name": "stdout",
     "output_type": "stream",
     "text": [
      "Left Sum is 0\n",
      "Right sum is 0\n"
     ]
    },
    {
     "data": {
      "text/plain": [
       "True"
      ]
     },
     "execution_count": 56,
     "metadata": {},
     "output_type": "execute_result"
    }
   ],
   "source": [
    "def balanced(number):\n",
    "\n",
    "    iter = 0\n",
    "    mid_count = int(len(str(number))) / 2\n",
    "    left_sum = 0\n",
    "    right_sum = 0\n",
    "    lenght = int(len(str(number)))\n",
    "\n",
    "    if len(str(number)) % 2 != 0:\n",
    "        mid_count -= 1\n",
    "        \n",
    "\n",
    "    for x in str(number):\n",
    "        if iter < mid_count:\n",
    "            left_sum += int(x)\n",
    "            iter += 1 \n",
    "            \n",
    "    print('Left Sum is {}'.format(left_sum))\n",
    "\n",
    "    if len(str(number)) % 2 != 0:\n",
    "        iter += 1\n",
    "    split_range = str(number)[iter:lenght]\n",
    "\n",
    "    \n",
    "\n",
    "    for y in split_range:\n",
    "        right_sum += int(y)\n",
    "        \n",
    "\n",
    "    print('Right sum is {}'.format(right_sum))\n",
    "    \n",
    "\n",
    "    if left_sum == right_sum:\n",
    "        return True\n",
    "    else:\n",
    "        return False\n",
    "            \n",
    "\n",
    "            \n",
    "\n",
    "\n",
    "\n",
    "aa = 9\n",
    "\n",
    "balanced(aa)\n",
    "\n",
    "\n",
    "  "
   ]
  },
  {
   "cell_type": "code",
   "execution_count": null,
   "metadata": {},
   "outputs": [],
   "source": []
  }
 ],
 "metadata": {
  "interpreter": {
   "hash": "72f905a1bbd07dc295e964c0246fea79da9263e854d6ece130d260b8e4a73f49"
  },
  "kernelspec": {
   "display_name": "Python 3.10.1 64-bit",
   "language": "python",
   "name": "python3"
  },
  "language_info": {
   "codemirror_mode": {
    "name": "ipython",
    "version": 3
   },
   "file_extension": ".py",
   "mimetype": "text/x-python",
   "name": "python",
   "nbconvert_exporter": "python",
   "pygments_lexer": "ipython3",
   "version": "3.10.1"
  },
  "orig_nbformat": 4
 },
 "nbformat": 4,
 "nbformat_minor": 2
}
